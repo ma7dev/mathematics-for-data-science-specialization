{
 "metadata": {
  "language_info": {
   "codemirror_mode": {
    "name": "ipython",
    "version": 3
   },
   "file_extension": ".py",
   "mimetype": "text/x-python",
   "name": "python",
   "nbconvert_exporter": "python",
   "pygments_lexer": "ipython3",
   "version": "3.7.6-final"
  },
  "orig_nbformat": 2,
  "kernelspec": {
   "name": "python3",
   "display_name": "Python 3"
  }
 },
 "nbformat": 4,
 "nbformat_minor": 2,
 "cells": [
  {
   "cell_type": "code",
   "execution_count": 16,
   "metadata": {},
   "outputs": [],
   "source": [
    "import numpy as np\n",
    "from scipy.linalg import lu"
   ]
  },
  {
   "cell_type": "code",
   "execution_count": 17,
   "metadata": {
    "tags": []
   },
   "outputs": [
    {
     "output_type": "stream",
     "name": "stdout",
     "text": "[1 4 5]\n[-1  4 53]\n[ 0  8 58]\n[ -1  16 265]\n"
    }
   ],
   "source": [
    "# vectors\n",
    "a = np.array([1,4,5])\n",
    "b = np.array([-1,4, 53])\n",
    "print(a)\n",
    "print(b)\n",
    "\n",
    "# vectors operations\n",
    "c = a + b\n",
    "d = a * b\n",
    "print(c)\n",
    "print(d)"
   ]
  },
  {
   "cell_type": "code",
   "execution_count": 18,
   "metadata": {
    "tags": []
   },
   "outputs": [
    {
     "output_type": "stream",
     "name": "stdout",
     "text": "[[[ 1  4]\n  [-5  8]]]\n[[[  7  -6]\n  [-11   2]]]\n[[[  8  -2]\n  [-16  10]]]\n[[[[ -37    2]]\n\n  [[-123   46]]]]\n"
    }
   ],
   "source": [
    "# matrices\n",
    "m1 = np.array([[[1,4], [-5,8]]])\n",
    "m2 = np.array([[[7,-6], [-11,2]]])\n",
    "print(m1)\n",
    "print(m2)\n",
    "\n",
    "# matrices operations\n",
    "msum = m1+m2\n",
    "product = np.dot(m1,m2)\n",
    "print(msum)\n",
    "print(product)"
   ]
  },
  {
   "cell_type": "code",
   "execution_count": 19,
   "metadata": {
    "tags": []
   },
   "outputs": [
    {
     "output_type": "stream",
     "name": "stdout",
     "text": "[[0. 0. 0.]\n [0. 0. 0.]]\n[[1. 0. 0.]\n [0. 1. 0.]\n [0. 0. 1.]]\n"
    }
   ],
   "source": [
    "# zeros matrix\n",
    "zeros = np.zeros((2,3))\n",
    "print(zeros)\n",
    "\n",
    "# identity matrix\n",
    "i = np.identity(3)\n",
    "print(i)"
   ]
  },
  {
   "cell_type": "code",
   "execution_count": 20,
   "metadata": {
    "tags": []
   },
   "outputs": [
    {
     "output_type": "stream",
     "name": "stdout",
     "text": "[[0.42857143]\n [1.14285714]]\n"
    }
   ],
   "source": [
    "# inverse, system of equation\n",
    "a = np.array([[-1,3],[3,5]])\n",
    "b = np.array([[3],[7]])\n",
    "\n",
    "inv = np.linalg.inv(a)\n",
    "\n",
    "x = np.dot(inv, b)\n",
    "\n",
    "print(x)"
   ]
  },
  {
   "cell_type": "code",
   "execution_count": 23,
   "metadata": {},
   "outputs": [
    {
     "output_type": "execute_result",
     "data": {
      "text/plain": "True"
     },
     "metadata": {},
     "execution_count": 23
    }
   ],
   "source": [
    "# PLU decomposition using scipy\n",
    "B = np.array([[0,0,1], [0,2,2], [3,0,4]])\n",
    "\n",
    "# PLU\n",
    "P, L, U = lu(B)\n",
    "\n",
    "# outputs true\n",
    "# PLU = B\n",
    "np.allclose( np.dot( np.dot(P,L), U ), B )"
   ]
  },
  {
   "cell_type": "code",
   "execution_count": 30,
   "metadata": {},
   "outputs": [
    {
     "output_type": "execute_result",
     "data": {
      "text/plain": "array([[4, 1],\n       [2, 2]])"
     },
     "metadata": {},
     "execution_count": 30
    }
   ],
   "source": [
    "# Covered Python methods\n",
    "# for higher dimension arrays using numpy.matmult is more preferable.\n",
    "a = np.array([[1, 0], [0, 1]])\n",
    "b = np.array([[4, 1], [2, 2]])\n",
    "np.matmul(a, b) # also can be written as a @ b"
   ]
  },
  {
   "cell_type": "code",
   "execution_count": 28,
   "metadata": {},
   "outputs": [],
   "source": [
    "a = np.array([[1,2],[3,4]])\n",
    "# sum_of_elements is 10\n",
    "sum_of_elements = np.sum(a)\n",
    "\n",
    "k = -9\n",
    "abs_k = np.abs(k) #abs_k is 9\n",
    "\n",
    "# random matrix of size 4x4 with values from -15 to 15\n",
    "m1 = np.random.randint(low=-15,high=15, size=(4, 4))\n",
    "#replace all values that are greater than 0 with 1\n",
    "filted_m1 = np.where(m1 < 0, m1, 1) "
   ]
  },
  {
   "cell_type": "code",
   "execution_count": null,
   "metadata": {},
   "outputs": [],
   "source": []
  }
 ]
}